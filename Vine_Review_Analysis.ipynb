{
  "nbformat": 4,
  "nbformat_minor": 0,
  "metadata": {
    "colab": {
      "name": "Vine_Review_Analysis.ipynb",
      "provenance": [],
      "collapsed_sections": [],
      "authorship_tag": "ABX9TyMDy6akGLUT0pqcd7v5cYck",
      "include_colab_link": true
    },
    "kernelspec": {
      "name": "python3",
      "display_name": "Python 3"
    },
    "language_info": {
      "name": "python"
    }
  },
  "cells": [
    {
      "cell_type": "markdown",
      "metadata": {
        "id": "view-in-github",
        "colab_type": "text"
      },
      "source": [
        "<a href=\"https://colab.research.google.com/github/MaxThors/Amazon_Vine_Analysis/blob/main/Vine_Review_Analysis.ipynb\" target=\"_parent\"><img src=\"https://colab.research.google.com/assets/colab-badge.svg\" alt=\"Open In Colab\"/></a>"
      ]
    },
    {
      "cell_type": "code",
      "metadata": {
        "colab": {
          "base_uri": "https://localhost:8080/"
        },
        "id": "jqogpB1Ox3-2",
        "outputId": "87b99964-1bb6-4129-f8cf-a9fdf7b3125b"
      },
      "source": [
        "import os\n",
        "# Find the latest version of spark 2.0  from http://www-us.apache.org/dist/spark/ and enter as the spark version\n",
        "# For example:\n",
        "# spark_version = 'spark-3.0.0'\n",
        "spark_version = 'spark-3.1.1'\n",
        "os.environ['SPARK_VERSION']=spark_version\n",
        "\n",
        "# Install Spark and Java\n",
        "!apt-get update\n",
        "!apt-get install openjdk-11-jdk-headless -qq > /dev/null\n",
        "!wget -q http://www-us.apache.org/dist/spark/$SPARK_VERSION/$SPARK_VERSION-bin-hadoop2.7.tgz\n",
        "!tar xf $SPARK_VERSION-bin-hadoop2.7.tgz\n",
        "!pip install -q findspark\n",
        "\n",
        "# Set Environment Variables\n",
        "import os\n",
        "os.environ[\"JAVA_HOME\"] = \"/usr/lib/jvm/java-11-openjdk-amd64\"\n",
        "os.environ[\"SPARK_HOME\"] = f\"/content/{spark_version}-bin-hadoop2.7\"\n",
        "\n",
        "# Start a SparkSession\n",
        "import findspark\n",
        "findspark.init()"
      ],
      "execution_count": 1,
      "outputs": [
        {
          "output_type": "stream",
          "text": [
            "\r0% [Working]\r            \rGet:1 http://ppa.launchpad.net/c2d4u.team/c2d4u4.0+/ubuntu bionic InRelease [15.9 kB]\n",
            "\r0% [Waiting for headers] [Waiting for headers] [Connected to cloud.r-project.or\r                                                                               \rGet:2 http://security.ubuntu.com/ubuntu bionic-security InRelease [88.7 kB]\n",
            "\r0% [Waiting for headers] [2 InRelease 14.2 kB/88.7 kB 16%] [Connected to cloud.\r                                                                               \rHit:3 http://archive.ubuntu.com/ubuntu bionic InRelease\n",
            "\r0% [2 InRelease 88.7 kB/88.7 kB 100%] [Connected to cloud.r-project.org (13.227\r                                                                               \rGet:4 http://archive.ubuntu.com/ubuntu bionic-updates InRelease [88.7 kB]\n",
            "\r                                                                               \rGet:5 https://cloud.r-project.org/bin/linux/ubuntu bionic-cran40/ InRelease [3,626 B]\n",
            "\r                                                                               \rHit:6 http://ppa.launchpad.net/cran/libgit2/ubuntu bionic InRelease\n",
            "\r0% [4 InRelease 67.8 kB/88.7 kB 76%] [Connecting to ppa.launchpad.net (91.189.9\r0% [3 InRelease gpgv 242 kB] [4 InRelease 67.8 kB/88.7 kB 76%] [Waiting for hea\r                                                                               \r0% [3 InRelease gpgv 242 kB] [Waiting for headers] [Waiting for headers]\r                                                                        \rGet:7 http://ppa.launchpad.net/deadsnakes/ppa/ubuntu bionic InRelease [15.9 kB]\n",
            "\r0% [3 InRelease gpgv 242 kB] [Waiting for headers] [7 InRelease 2,572 B/15.9 kB\r                                                                               \rGet:8 http://archive.ubuntu.com/ubuntu bionic-backports InRelease [74.6 kB]\n",
            "\r0% [3 InRelease gpgv 242 kB] [8 InRelease 8,394 B/74.6 kB 11%] [7 InRelease 2,5\r0% [3 InRelease gpgv 242 kB] [7 InRelease 11.3 kB/15.9 kB 71%] [Waiting for hea\r                                                                               \r0% [3 InRelease gpgv 242 kB] [Waiting for headers]\r                                                  \rHit:9 http://ppa.launchpad.net/graphics-drivers/ppa/ubuntu bionic InRelease\n",
            "Ign:10 https://developer.download.nvidia.com/compute/cuda/repos/ubuntu1804/x86_64  InRelease\n",
            "Ign:11 https://developer.download.nvidia.com/compute/machine-learning/repos/ubuntu1804/x86_64  InRelease\n",
            "Get:12 https://developer.download.nvidia.com/compute/cuda/repos/ubuntu1804/x86_64  Release [697 B]\n",
            "Hit:13 https://developer.download.nvidia.com/compute/machine-learning/repos/ubuntu1804/x86_64  Release\n",
            "Get:14 https://developer.download.nvidia.com/compute/cuda/repos/ubuntu1804/x86_64  Release.gpg [836 B]\n",
            "Get:15 http://security.ubuntu.com/ubuntu bionic-security/universe amd64 Packages [1,410 kB]\n",
            "Get:16 http://security.ubuntu.com/ubuntu bionic-security/restricted amd64 Packages [395 kB]\n",
            "Get:17 http://security.ubuntu.com/ubuntu bionic-security/main amd64 Packages [2,116 kB]\n",
            "Get:18 http://security.ubuntu.com/ubuntu bionic-security/multiverse amd64 Packages [24.5 kB]\n",
            "Get:19 http://ppa.launchpad.net/c2d4u.team/c2d4u4.0+/ubuntu bionic/main Sources [1,756 kB]\n",
            "Get:20 http://ppa.launchpad.net/c2d4u.team/c2d4u4.0+/ubuntu bionic/main amd64 Packages [899 kB]\n",
            "Get:21 http://archive.ubuntu.com/ubuntu bionic-updates/restricted amd64 Packages [425 kB]\n",
            "Get:22 http://archive.ubuntu.com/ubuntu bionic-updates/multiverse amd64 Packages [31.4 kB]\n",
            "Get:23 http://archive.ubuntu.com/ubuntu bionic-updates/universe amd64 Packages [2,182 kB]\n",
            "Get:24 http://archive.ubuntu.com/ubuntu bionic-updates/main amd64 Packages [2,546 kB]\n",
            "Get:25 http://ppa.launchpad.net/deadsnakes/ppa/ubuntu bionic/main amd64 Packages [39.5 kB]\n",
            "Ign:27 https://developer.download.nvidia.com/compute/cuda/repos/ubuntu1804/x86_64  Packages\n",
            "Get:27 https://developer.download.nvidia.com/compute/cuda/repos/ubuntu1804/x86_64  Packages [740 kB]\n",
            "Fetched 12.9 MB in 4s (3,599 kB/s)\n",
            "Reading package lists... Done\n"
          ],
          "name": "stdout"
        }
      ]
    },
    {
      "cell_type": "code",
      "metadata": {
        "id": "qCu-cMUzycje"
      },
      "source": [
        "from pyspark.sql import SparkSession\n",
        "spark = SparkSession.builder.appName(\"BigData-Challenge\").config(\"spark.driver.extraClassPath\",\"/content/postgresql-42.2.16.jar\").getOrCreate()"
      ],
      "execution_count": 2,
      "outputs": []
    },
    {
      "cell_type": "code",
      "metadata": {
        "colab": {
          "base_uri": "https://localhost:8080/"
        },
        "id": "xq9YQia3yf5K",
        "outputId": "2cbe0a29-5eb0-4891-c3ff-86bb527223dc"
      },
      "source": [
        "from pyspark import SparkFiles\n",
        "url = \"https://s3.amazonaws.com/amazon-reviews-pds/tsv/amazon_reviews_us_Apparel_v1_00.tsv.gz\"\n",
        "spark.sparkContext.addFile(url)\n",
        "df = spark.read.option(\"encoding\", \"UTF-8\").csv(SparkFiles.get(\"amazon_reviews_us_Apparel_v1_00.tsv.gz\"), sep=\"\\t\", header=True, inferSchema=True)\n",
        "df.show()"
      ],
      "execution_count": 3,
      "outputs": [
        {
          "output_type": "stream",
          "text": [
            "+-----------+-----------+--------------+----------+--------------+--------------------+----------------+-----------+-------------+-----------+----+-----------------+--------------------+--------------------+-----------+\n",
            "|marketplace|customer_id|     review_id|product_id|product_parent|       product_title|product_category|star_rating|helpful_votes|total_votes|vine|verified_purchase|     review_headline|         review_body|review_date|\n",
            "+-----------+-----------+--------------+----------+--------------+--------------------+----------------+-----------+-------------+-----------+----+-----------------+--------------------+--------------------+-----------+\n",
            "|         US|   32158956|R1KKOXHNI8MSXU|B01KL6O72Y|      24485154|Easy Tool Stainle...|         Apparel|          4|            0|          0|   N|                Y|★ THESE REALLY DO...|These Really Do W...| 2013-01-14|\n",
            "|         US|    2714559|R26SP2OPDK4HT7|B01ID3ZS5W|     363128556|V28 Women Cowl Ne...|         Apparel|          5|            1|          2|   N|                Y|Favorite for wint...|I love this dress...| 2014-03-04|\n",
            "|         US|   12608825| RWQEDYAX373I1|B01I497BGY|     811958549|James Fiallo Men'...|         Apparel|          5|            0|          0|   N|                Y|Great Socks for t...|Nice socks, great...| 2015-07-12|\n",
            "|         US|   25482800|R231YI7R4GPF6J|B01HDXFZK6|     692205728|Belfry Gangster 1...|         Apparel|          5|            0|          0|   N|                Y|          Slick hat!|I bought this for...| 2015-06-03|\n",
            "|         US|    9310286|R3KO3W45DD0L1K|B01G6MBEBY|     431150422|JAEDEN Women's Be...|         Apparel|          5|            0|          0|   N|                Y|I would do it again!|Perfect dress and...| 2015-06-12|\n",
            "|         US|   26631939|R1C4QH63NFL5NJ|B01FWRXN0Y|     366144407|Levi's Boys' 514 ...|         Apparel|          5|            0|          0|   N|                Y|          Five Stars|Excellent for my ...| 2014-04-22|\n",
            "|         US|   48785098|R2GP65O1U9N7BP|B01EXNH1HE|     786052021|Minimalist Wallet...|         Apparel|          5|            0|          0|   N|                Y|            Love it!|Raw is the only w...| 2015-07-28|\n",
            "|         US|   39548589|R3O29CT5MQQ3XQ|B01E7OL09O|     108920964|Harriton Men's Ba...|         Apparel|          4|            0|          0|   N|                Y|         Three Stars|        A bit large.| 2015-07-10|\n",
            "|         US|   29355866|R1ZECD2AA8QFF6|B01DXHX81O|     317132458|Jockey Women's Un...|         Apparel|          5|            0|          0|   N|                Y|          Five Stars|          Great fit!| 2015-08-09|\n",
            "|         US|   27477484|R2S79GCF6J89OA|B01DDULIJK|     110598191|Alexander Del Ros...|         Apparel|          3|            0|          0|   N|                Y|    Not my favorite.|Shirt a bit too l...| 2014-05-24|\n",
            "|         US|   17685865|R1CBCUGNP37MPK|B01BOKOL4A|     121408017|Jockey Women's Un...|         Apparel|          5|            0|          0|   N|                Y|The Jockey Women'...|The Jockey Women'...| 2015-06-10|\n",
            "|         US|   19787539|R3NU4WUR5ZNV1V|B01B3Q4Q0O|     134506082|Bali Passion For ...|         Apparel|          5|            0|          0|   N|                Y|          Five Stars|cup size is just ...| 2013-09-06|\n",
            "|         US|   44196725|R32EPCJ3XF8LGE|B01ADDSL9U|     747539045|Lilyette Women's ...|         Apparel|          5|            0|          0|   N|                Y|          Five Stars|          Perfect...| 2014-11-17|\n",
            "|         US|   45510794|R1XIBC6WQBW31M|B019P1X5XI|     696379847|Vanity Fair Women...|         Apparel|          5|            0|          0|   N|                Y|best ever4 for me...|best  ever4 for m...| 2013-05-12|\n",
            "|         US|   42025740|R1P11MVDZ65LMH|B019MDXIXG|     387286513|Warner's Women's ...|         Apparel|          5|            0|          0|   N|                Y|          Five Stars|          Great fit.| 2014-02-14|\n",
            "|         US|   27097189|R1OJA3DJL0VDDK|B019438FEG|     764190574|Columbia Women's ...|         Apparel|          5|            0|          0|   N|                Y|          Five Stars|I have this Colum...| 2014-10-20|\n",
            "|         US|   13808904|R1THWA5YRJLOOF|B0178HGNIA|     816266887|Robes King RK Cla...|         Apparel|          4|            0|          0|   N|                Y|          Four Stars|My husband found ...| 2015-07-05|\n",
            "|         US|   30225894| R738LCNRSJVXP|B016VIU0QI|     323924698|VIV Collection Be...|         Apparel|          5|            6|          7|   N|                Y|   Awesome leggings!|Awesome leggings!...| 2015-07-29|\n",
            "|         US|   45223824|R1N3Z13931J3O9|B016PUU3VO|     893588059|Fruit of the Loom...|         Apparel|          2|            0|          0|   N|                Y|Sizes not correct...|I ordered the sam...| 2015-01-01|\n",
            "|         US|   22300783|R1LBNTP7E8N89Z|B016AQNDM4|     917361125|Jockey Scrubs Wom...|         Apparel|          1|            0|          0|   N|                Y|            One Star| not exact in sizing| 2015-02-12|\n",
            "+-----------+-----------+--------------+----------+--------------+--------------------+----------------+-----------+-------------+-----------+----+-----------------+--------------------+--------------------+-----------+\n",
            "only showing top 20 rows\n",
            "\n"
          ],
          "name": "stdout"
        }
      ]
    },
    {
      "cell_type": "code",
      "metadata": {
        "colab": {
          "base_uri": "https://localhost:8080/"
        },
        "id": "jcfmEAr9ysLb",
        "outputId": "e4cbfd79-8007-47bd-98b9-8f7664e6daf5"
      },
      "source": [
        "# Create the vine_table. DataFrame\n",
        "vine_df = df.select([\"review_id\", \"star_rating\", \"helpful_votes\", \"total_votes\", \"vine\", \"verified_purchase\"])\n",
        "vine_df.show()"
      ],
      "execution_count": 7,
      "outputs": [
        {
          "output_type": "stream",
          "text": [
            "+--------------+-----------+-------------+-----------+----+-----------------+\n",
            "|     review_id|star_rating|helpful_votes|total_votes|vine|verified_purchase|\n",
            "+--------------+-----------+-------------+-----------+----+-----------------+\n",
            "|R1KKOXHNI8MSXU|          4|            0|          0|   N|                Y|\n",
            "|R26SP2OPDK4HT7|          5|            1|          2|   N|                Y|\n",
            "| RWQEDYAX373I1|          5|            0|          0|   N|                Y|\n",
            "|R231YI7R4GPF6J|          5|            0|          0|   N|                Y|\n",
            "|R3KO3W45DD0L1K|          5|            0|          0|   N|                Y|\n",
            "|R1C4QH63NFL5NJ|          5|            0|          0|   N|                Y|\n",
            "|R2GP65O1U9N7BP|          5|            0|          0|   N|                Y|\n",
            "|R3O29CT5MQQ3XQ|          4|            0|          0|   N|                Y|\n",
            "|R1ZECD2AA8QFF6|          5|            0|          0|   N|                Y|\n",
            "|R2S79GCF6J89OA|          3|            0|          0|   N|                Y|\n",
            "|R1CBCUGNP37MPK|          5|            0|          0|   N|                Y|\n",
            "|R3NU4WUR5ZNV1V|          5|            0|          0|   N|                Y|\n",
            "|R32EPCJ3XF8LGE|          5|            0|          0|   N|                Y|\n",
            "|R1XIBC6WQBW31M|          5|            0|          0|   N|                Y|\n",
            "|R1P11MVDZ65LMH|          5|            0|          0|   N|                Y|\n",
            "|R1OJA3DJL0VDDK|          5|            0|          0|   N|                Y|\n",
            "|R1THWA5YRJLOOF|          4|            0|          0|   N|                Y|\n",
            "| R738LCNRSJVXP|          5|            6|          7|   N|                Y|\n",
            "|R1N3Z13931J3O9|          2|            0|          0|   N|                Y|\n",
            "|R1LBNTP7E8N89Z|          1|            0|          0|   N|                Y|\n",
            "+--------------+-----------+-------------+-----------+----+-----------------+\n",
            "only showing top 20 rows\n",
            "\n"
          ],
          "name": "stdout"
        }
      ]
    },
    {
      "cell_type": "code",
      "metadata": {
        "colab": {
          "base_uri": "https://localhost:8080/"
        },
        "id": "KU95MD5vzSjS",
        "outputId": "d8187c51-f7f6-4f14-a109-72c6c440d1fe"
      },
      "source": [
        "# Filter so total_votes>=20\n",
        "vine_df_20 = vine_df.filter(vine_df['total_votes'] >= 20)\n",
        "vine_df_20.show()"
      ],
      "execution_count": 8,
      "outputs": [
        {
          "output_type": "stream",
          "text": [
            "+--------------+-----------+-------------+-----------+----+-----------------+\n",
            "|     review_id|star_rating|helpful_votes|total_votes|vine|verified_purchase|\n",
            "+--------------+-----------+-------------+-----------+----+-----------------+\n",
            "|R35PT06NWP7LDP|          5|           30|         32|   N|                N|\n",
            "|R2P76PJFUGXBHO|          1|            6|         45|   N|                N|\n",
            "| RQW4AFOG9MR4Z|          5|           51|         52|   N|                N|\n",
            "|R2SMUEBMGLAJQK|          5|           29|         36|   N|                Y|\n",
            "|R1XVIZZALU5P6J|          5|          148|        150|   N|                Y|\n",
            "|R11UFMG8M2488I|          4|           23|         26|   N|                N|\n",
            "|R2OSHKSPXU68W5|          5|          136|        147|   N|                N|\n",
            "|R3M02FSD3BLUPU|          5|           19|         21|   N|                N|\n",
            "|R1P0LEEJHH09L3|          5|           32|         32|   N|                Y|\n",
            "|R1V6UU1EHW3Q12|          5|           57|         62|   N|                Y|\n",
            "|R230W87COFSTCL|          5|           21|         21|   N|                Y|\n",
            "|R156HBTMUSEM88|          5|           48|         49|   N|                Y|\n",
            "|R2X1UHSW9KUBES|          5|           22|         22|   N|                Y|\n",
            "| RO32P11MHPMI3|          5|           24|         24|   N|                Y|\n",
            "|R2WN1VOTG9IK98|          1|            0|         22|   N|                Y|\n",
            "|R1Y8ARYNAB7PC0|          5|           19|         20|   N|                N|\n",
            "|R1QSB09EOREALQ|          4|           29|         32|   N|                Y|\n",
            "|R1BQ8BDCIV9ONZ|          5|           44|         50|   N|                Y|\n",
            "|R18638HIUF6XNR|          3|           22|         23|   N|                N|\n",
            "|  R1EHNRX9BMLK|          5|           19|         20|   N|                Y|\n",
            "+--------------+-----------+-------------+-----------+----+-----------------+\n",
            "only showing top 20 rows\n",
            "\n"
          ],
          "name": "stdout"
        }
      ]
    },
    {
      "cell_type": "code",
      "metadata": {
        "colab": {
          "base_uri": "https://localhost:8080/"
        },
        "id": "nIQJLz1T0Hmh",
        "outputId": "030f1032-6c82-41e4-cd2e-c920aea5d5c7"
      },
      "source": [
        "# Filter so helpful_votes/total_votes>=0.5\n",
        "vine_df_50 = vine_df_20.filter(vine_df_20['helpful_votes']/vine_df_20['total_votes'] >= 0.5)\n",
        "vine_df_50.show()"
      ],
      "execution_count": 10,
      "outputs": [
        {
          "output_type": "stream",
          "text": [
            "+--------------+-----------+-------------+-----------+----+-----------------+\n",
            "|     review_id|star_rating|helpful_votes|total_votes|vine|verified_purchase|\n",
            "+--------------+-----------+-------------+-----------+----+-----------------+\n",
            "|R35PT06NWP7LDP|          5|           30|         32|   N|                N|\n",
            "| RQW4AFOG9MR4Z|          5|           51|         52|   N|                N|\n",
            "|R2SMUEBMGLAJQK|          5|           29|         36|   N|                Y|\n",
            "|R1XVIZZALU5P6J|          5|          148|        150|   N|                Y|\n",
            "|R11UFMG8M2488I|          4|           23|         26|   N|                N|\n",
            "|R2OSHKSPXU68W5|          5|          136|        147|   N|                N|\n",
            "|R3M02FSD3BLUPU|          5|           19|         21|   N|                N|\n",
            "|R1P0LEEJHH09L3|          5|           32|         32|   N|                Y|\n",
            "|R1V6UU1EHW3Q12|          5|           57|         62|   N|                Y|\n",
            "|R230W87COFSTCL|          5|           21|         21|   N|                Y|\n",
            "|R156HBTMUSEM88|          5|           48|         49|   N|                Y|\n",
            "|R2X1UHSW9KUBES|          5|           22|         22|   N|                Y|\n",
            "| RO32P11MHPMI3|          5|           24|         24|   N|                Y|\n",
            "|R1Y8ARYNAB7PC0|          5|           19|         20|   N|                N|\n",
            "|R1QSB09EOREALQ|          4|           29|         32|   N|                Y|\n",
            "|R1BQ8BDCIV9ONZ|          5|           44|         50|   N|                Y|\n",
            "|R18638HIUF6XNR|          3|           22|         23|   N|                N|\n",
            "|  R1EHNRX9BMLK|          5|           19|         20|   N|                Y|\n",
            "|R26L79OMEJLULL|          5|           32|         36|   N|                Y|\n",
            "| RQLV8G3M9ZOT2|          5|           22|         23|   N|                N|\n",
            "+--------------+-----------+-------------+-----------+----+-----------------+\n",
            "only showing top 20 rows\n",
            "\n"
          ],
          "name": "stdout"
        }
      ]
    },
    {
      "cell_type": "code",
      "metadata": {
        "colab": {
          "base_uri": "https://localhost:8080/"
        },
        "id": "B7pEItLL0zdp",
        "outputId": "a2eda395-5ff7-42b6-9a9c-f8c2e7e7787e"
      },
      "source": [
        "# Filter on vine program='Y'\n",
        "vine_program_df = vine_df_50.filter(vine_df_50['vine']=='Y')\n",
        "vine_program_df.show()"
      ],
      "execution_count": 11,
      "outputs": [
        {
          "output_type": "stream",
          "text": [
            "+--------------+-----------+-------------+-----------+----+-----------------+\n",
            "|     review_id|star_rating|helpful_votes|total_votes|vine|verified_purchase|\n",
            "+--------------+-----------+-------------+-----------+----+-----------------+\n",
            "| R6U9701C3BGO6|          3|          139|        147|   Y|                N|\n",
            "|R1XK3ALB45D7N4|          5|           33|         34|   Y|                N|\n",
            "|R1IZCSTLX81D6C|          5|           31|         33|   Y|                N|\n",
            "|R2C8NC8EQLH4JF|          3|           45|         48|   Y|                N|\n",
            "|R1JJ1YOJMOML1P|          5|           18|         21|   Y|                N|\n",
            "|R3TKG664L9MTXJ|          4|          164|        175|   Y|                N|\n",
            "|R2E942L5EX73FP|          5|           29|         33|   Y|                N|\n",
            "|R3CGRT9HYB3LI7|          5|           20|         21|   Y|                N|\n",
            "|R3HIFO4D3ZIBZ7|          5|           25|         26|   Y|                N|\n",
            "|R2VUXJT91MXOQJ|          3|           72|         79|   Y|                N|\n",
            "|R1C8PGDXGYR30Z|          4|           29|         30|   Y|                N|\n",
            "| R8MS8X9EHHTPL|          3|           18|         20|   Y|                N|\n",
            "|R31GNOM0KSO811|          5|           33|         35|   Y|                N|\n",
            "|R30QE1QK86LPYL|          5|          240|        248|   Y|                N|\n",
            "|R22HZWFVEVORET|          4|           47|         50|   Y|                N|\n",
            "|R1FH9B0W7UFLK0|          2|           40|         45|   Y|                N|\n",
            "|R3JA6LR9QD9TZE|          4|           18|         20|   Y|                N|\n",
            "|R378OQDA4JN3IG|          4|           42|         44|   Y|                N|\n",
            "|R2U5MIYOYUTTUA|          3|           31|         34|   Y|                N|\n",
            "|R337AR463Y2FPD|          3|           22|         22|   Y|                N|\n",
            "+--------------+-----------+-------------+-----------+----+-----------------+\n",
            "only showing top 20 rows\n",
            "\n"
          ],
          "name": "stdout"
        }
      ]
    },
    {
      "cell_type": "code",
      "metadata": {
        "colab": {
          "base_uri": "https://localhost:8080/"
        },
        "id": "I28GxXu_1LEx",
        "outputId": "0d6a8065-512e-49ee-ae68-135dfe2722f6"
      },
      "source": [
        "# Filter on vine program='N'\n",
        "vine_no_program_df = vine_df_50.filter(vine_df_50['vine']=='N')\n",
        "vine_no_program_df.show()"
      ],
      "execution_count": 13,
      "outputs": [
        {
          "output_type": "stream",
          "text": [
            "+--------------+-----------+-------------+-----------+----+-----------------+\n",
            "|     review_id|star_rating|helpful_votes|total_votes|vine|verified_purchase|\n",
            "+--------------+-----------+-------------+-----------+----+-----------------+\n",
            "|R35PT06NWP7LDP|          5|           30|         32|   N|                N|\n",
            "| RQW4AFOG9MR4Z|          5|           51|         52|   N|                N|\n",
            "|R2SMUEBMGLAJQK|          5|           29|         36|   N|                Y|\n",
            "|R1XVIZZALU5P6J|          5|          148|        150|   N|                Y|\n",
            "|R11UFMG8M2488I|          4|           23|         26|   N|                N|\n",
            "|R2OSHKSPXU68W5|          5|          136|        147|   N|                N|\n",
            "|R3M02FSD3BLUPU|          5|           19|         21|   N|                N|\n",
            "|R1P0LEEJHH09L3|          5|           32|         32|   N|                Y|\n",
            "|R1V6UU1EHW3Q12|          5|           57|         62|   N|                Y|\n",
            "|R230W87COFSTCL|          5|           21|         21|   N|                Y|\n",
            "|R156HBTMUSEM88|          5|           48|         49|   N|                Y|\n",
            "|R2X1UHSW9KUBES|          5|           22|         22|   N|                Y|\n",
            "| RO32P11MHPMI3|          5|           24|         24|   N|                Y|\n",
            "|R1Y8ARYNAB7PC0|          5|           19|         20|   N|                N|\n",
            "|R1QSB09EOREALQ|          4|           29|         32|   N|                Y|\n",
            "|R1BQ8BDCIV9ONZ|          5|           44|         50|   N|                Y|\n",
            "|R18638HIUF6XNR|          3|           22|         23|   N|                N|\n",
            "|  R1EHNRX9BMLK|          5|           19|         20|   N|                Y|\n",
            "|R26L79OMEJLULL|          5|           32|         36|   N|                Y|\n",
            "| RQLV8G3M9ZOT2|          5|           22|         23|   N|                N|\n",
            "+--------------+-----------+-------------+-----------+----+-----------------+\n",
            "only showing top 20 rows\n",
            "\n"
          ],
          "name": "stdout"
        }
      ]
    },
    {
      "cell_type": "code",
      "metadata": {
        "colab": {
          "base_uri": "https://localhost:8080/"
        },
        "id": "ZZf-W4o112E6",
        "outputId": "28b4bf94-b87b-4865-d269-97645ba46f92"
      },
      "source": [
        "# Vine Program total reviews\n",
        "vine_total = vine_program_df.count()\n",
        "print(vine_total)"
      ],
      "execution_count": 16,
      "outputs": [
        {
          "output_type": "stream",
          "text": [
            "33\n"
          ],
          "name": "stdout"
        }
      ]
    },
    {
      "cell_type": "code",
      "metadata": {
        "colab": {
          "base_uri": "https://localhost:8080/"
        },
        "id": "7IHsafr33E9q",
        "outputId": "35604528-9a8a-4a02-97a7-b6bd51f2a706"
      },
      "source": [
        "# VIne Program total 5 star reviews\n",
        "vine_5star = vine_program_df.filter(vine_program_df['star_rating']==5)\n",
        "vine_5star_total = vine_5star.count()\n",
        "print(vine_5star_total)"
      ],
      "execution_count": 19,
      "outputs": [
        {
          "output_type": "stream",
          "text": [
            "15\n"
          ],
          "name": "stdout"
        }
      ]
    },
    {
      "cell_type": "code",
      "metadata": {
        "colab": {
          "base_uri": "https://localhost:8080/"
        },
        "id": "gEBYC2rq3x3p",
        "outputId": "71408516-8a5b-4d70-f5f5-f9d5f71f8581"
      },
      "source": [
        "# Vine program 5 star percentage\n",
        "vine_5star_pct = (vine_5star_total/vine_total)*100\n",
        "print(vine_5star_pct)"
      ],
      "execution_count": 27,
      "outputs": [
        {
          "output_type": "stream",
          "text": [
            "45.45454545454545\n"
          ],
          "name": "stdout"
        }
      ]
    },
    {
      "cell_type": "code",
      "metadata": {
        "colab": {
          "base_uri": "https://localhost:8080/"
        },
        "id": "f8tqYdY-5CUA",
        "outputId": "b45c5dd6-7df3-4a9c-ba87-c276ed24ac1d"
      },
      "source": [
        "# Non Vine Program total reviews\n",
        "vine_no_total = vine_no_program_df.count()\n",
        "print(vine_no_total)"
      ],
      "execution_count": 28,
      "outputs": [
        {
          "output_type": "stream",
          "text": [
            "45388\n"
          ],
          "name": "stdout"
        }
      ]
    },
    {
      "cell_type": "code",
      "metadata": {
        "colab": {
          "base_uri": "https://localhost:8080/"
        },
        "id": "b8qkWSju66b3",
        "outputId": "2df536e7-d7d3-4133-8406-db3c5525927c"
      },
      "source": [
        "# Non Vine Program 5 star reviews\n",
        "no_vine_5star = vine_no_program_df.filter(vine_no_program_df['star_rating']==5)\n",
        "no_vine_5star_total = no_vine_5star.count()\n",
        "print(no_vine_5star_total)"
      ],
      "execution_count": 30,
      "outputs": [
        {
          "output_type": "stream",
          "text": [
            "23733\n"
          ],
          "name": "stdout"
        }
      ]
    },
    {
      "cell_type": "code",
      "metadata": {
        "colab": {
          "base_uri": "https://localhost:8080/"
        },
        "id": "ti8AGC4879Z3",
        "outputId": "b08cf37b-67af-4ec4-f48a-f0aeca4a7796"
      },
      "source": [
        "# Non Vine Program 5 star percentage\n",
        "no_vine_5star_pct = (no_vine_5star_total/vine_no_total)*100\n",
        "print(no_vine_5star_pct)"
      ],
      "execution_count": 32,
      "outputs": [
        {
          "output_type": "stream",
          "text": [
            "52.28915131752886\n"
          ],
          "name": "stdout"
        }
      ]
    },
    {
      "cell_type": "code",
      "metadata": {
        "id": "mLcIBW_-8aGf"
      },
      "source": [
        ""
      ],
      "execution_count": null,
      "outputs": []
    }
  ]
}